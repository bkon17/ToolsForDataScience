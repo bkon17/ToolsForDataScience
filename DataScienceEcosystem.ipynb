{
 "cells": [
  {
   "cell_type": "markdown",
   "id": "d28e1d45",
   "metadata": {},
   "source": [
    "# Data Science Tools and Ecosystem"
   ]
  },
  {
   "cell_type": "markdown",
   "id": "2522f703",
   "metadata": {},
   "source": [
    "In this notebook, I'll summarize Data Science Tools and Ecosystem"
   ]
  },
  {
   "cell_type": "markdown",
   "id": "47489fcb",
   "metadata": {},
   "source": [
    "__Objectives:__\n",
    "\n",
    "* List languages used by Data Scientists\n",
    "* List libraries used by Data Scientists\n",
    "* List Data Science tools"
   ]
  },
  {
   "cell_type": "markdown",
   "id": "669f1c09",
   "metadata": {},
   "source": [
    "Popular languages used by Data Scientists include:\n",
    "\n",
    "1. Python\n",
    "2. R\n",
    "3. SQL\n",
    "4. Scala\n",
    "5. Julia"
   ]
  },
  {
   "cell_type": "markdown",
   "id": "5d7de2e3",
   "metadata": {},
   "source": [
    "Libraries commonly used by Data Scientists include:\n",
    "\n",
    "1. Pandas\n",
    "2. Numpy\n",
    "3. Scikit-learn\n",
    "4. Seaborn\n",
    "5. ggplot2\n",
    "6. Caret\n",
    "7. Vegas\n"
   ]
  },
  {
   "cell_type": "markdown",
   "id": "90376649",
   "metadata": {},
   "source": [
    "|Data Science Tools|\n",
    "|------------------|\n",
    "|RStudio|\n",
    "|JupyterLab|\n",
    "|Github|"
   ]
  },
  {
   "cell_type": "markdown",
   "id": "11373fd9",
   "metadata": {},
   "source": [
    "### Below are examples of evaluating arithmetic using Python"
   ]
  },
  {
   "cell_type": "code",
   "execution_count": 13,
   "id": "5facffe1",
   "metadata": {},
   "outputs": [
    {
     "data": {
      "text/plain": [
       "17"
      ]
     },
     "execution_count": 13,
     "metadata": {},
     "output_type": "execute_result"
    }
   ],
   "source": [
    "#This a simple arithmetic expression to mutiply then add integers\n",
    "(3*4)+5"
   ]
  },
  {
   "cell_type": "code",
   "execution_count": 14,
   "id": "f87e5d99",
   "metadata": {},
   "outputs": [
    {
     "data": {
      "text/plain": [
       "3.3333333333333335"
      ]
     },
     "execution_count": 14,
     "metadata": {},
     "output_type": "execute_result"
    }
   ],
   "source": [
    "#This will convert 200 minutes to hours by diving by 60\n",
    "200/60"
   ]
  },
  {
   "cell_type": "markdown",
   "id": "12fbf599",
   "metadata": {},
   "source": [
    "## Author\n",
    "Benjamin Kon"
   ]
  },
  {
   "cell_type": "code",
   "execution_count": null,
   "id": "d96986c5",
   "metadata": {},
   "outputs": [],
   "source": []
  }
 ],
 "metadata": {
  "kernelspec": {
   "display_name": "Python 3 (ipykernel)",
   "language": "python",
   "name": "python3"
  },
  "language_info": {
   "codemirror_mode": {
    "name": "ipython",
    "version": 3
   },
   "file_extension": ".py",
   "mimetype": "text/x-python",
   "name": "python",
   "nbconvert_exporter": "python",
   "pygments_lexer": "ipython3",
   "version": "3.10.9"
  }
 },
 "nbformat": 4,
 "nbformat_minor": 5
}
